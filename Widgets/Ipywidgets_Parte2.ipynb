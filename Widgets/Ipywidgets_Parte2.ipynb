{
 "cells": [
  {
   "cell_type": "markdown",
   "metadata": {},
   "source": [
    "# Utilizar IPython widgets (parte2)\n",
    "\n",
    "En este notebook utilizamos widgets para filtrar y explorar un DataFrame <br>\n",
    "Es la segunda parte del artículo sobre widgets interactivos para Jupyter Notebook: https://estrategiastrading.com/widgets-interactivos-en-python-ipywidgets/\n",
    "\n",
    "En este ejemplo utilizo los datos de los cierres mensuales del SP500 entre 1970 y 2019.\n",
    "## 1.Cargar librerías, paquetes y data"
   ]
  },
  {
   "cell_type": "code",
   "execution_count": 1,
   "metadata": {},
   "outputs": [],
   "source": [
    "import pandas as pd\n",
    "import numpy as np\n",
    "import seaborn as sns\n",
    "import matplotlib.pyplot as plt\n",
    "%matplotlib inline\n",
    "sns.set()\n",
    "import ipywidgets as widgets"
   ]
  },
  {
   "cell_type": "code",
   "execution_count": 2,
   "metadata": {},
   "outputs": [
    {
     "data": {
      "text/html": [
       "<div>\n",
       "<style scoped>\n",
       "    .dataframe tbody tr th:only-of-type {\n",
       "        vertical-align: middle;\n",
       "    }\n",
       "\n",
       "    .dataframe tbody tr th {\n",
       "        vertical-align: top;\n",
       "    }\n",
       "\n",
       "    .dataframe thead th {\n",
       "        text-align: right;\n",
       "    }\n",
       "</style>\n",
       "<table border=\"1\" class=\"dataframe\">\n",
       "  <thead>\n",
       "    <tr style=\"text-align: right;\">\n",
       "      <th></th>\n",
       "      <th>Close</th>\n",
       "      <th>LogRet</th>\n",
       "      <th>Year</th>\n",
       "      <th>Month</th>\n",
       "    </tr>\n",
       "    <tr>\n",
       "      <th>Date</th>\n",
       "      <th></th>\n",
       "      <th></th>\n",
       "      <th></th>\n",
       "      <th></th>\n",
       "    </tr>\n",
       "  </thead>\n",
       "  <tbody>\n",
       "    <tr>\n",
       "      <td>2019-08-30</td>\n",
       "      <td>2926.459961</td>\n",
       "      <td>-0.018257</td>\n",
       "      <td>2019</td>\n",
       "      <td>8</td>\n",
       "    </tr>\n",
       "    <tr>\n",
       "      <td>2019-09-30</td>\n",
       "      <td>2976.739990</td>\n",
       "      <td>0.017035</td>\n",
       "      <td>2019</td>\n",
       "      <td>9</td>\n",
       "    </tr>\n",
       "    <tr>\n",
       "      <td>2019-10-31</td>\n",
       "      <td>3037.560059</td>\n",
       "      <td>0.020226</td>\n",
       "      <td>2019</td>\n",
       "      <td>10</td>\n",
       "    </tr>\n",
       "    <tr>\n",
       "      <td>2019-11-29</td>\n",
       "      <td>3140.979980</td>\n",
       "      <td>0.033480</td>\n",
       "      <td>2019</td>\n",
       "      <td>11</td>\n",
       "    </tr>\n",
       "    <tr>\n",
       "      <td>2019-12-31</td>\n",
       "      <td>3230.780029</td>\n",
       "      <td>0.028189</td>\n",
       "      <td>2019</td>\n",
       "      <td>12</td>\n",
       "    </tr>\n",
       "  </tbody>\n",
       "</table>\n",
       "</div>"
      ],
      "text/plain": [
       "                  Close    LogRet  Year  Month\n",
       "Date                                          \n",
       "2019-08-30  2926.459961 -0.018257  2019      8\n",
       "2019-09-30  2976.739990  0.017035  2019      9\n",
       "2019-10-31  3037.560059  0.020226  2019     10\n",
       "2019-11-29  3140.979980  0.033480  2019     11\n",
       "2019-12-31  3230.780029  0.028189  2019     12"
      ]
     },
     "execution_count": 2,
     "metadata": {},
     "output_type": "execute_result"
    }
   ],
   "source": [
    "file = 'SP500_Mensual.csv'\n",
    "df = pd.read_csv(file,index_col=\"Date\", parse_dates = True)\n",
    "df = df.dropna()\n",
    "df.tail()"
   ]
  },
  {
   "cell_type": "markdown",
   "metadata": {},
   "source": [
    "## 2. Utilizando interact"
   ]
  },
  {
   "cell_type": "code",
   "execution_count": 3,
   "metadata": {},
   "outputs": [],
   "source": [
    "# utilizando interact \n",
    "from ipywidgets import interact"
   ]
  },
  {
   "cell_type": "markdown",
   "metadata": {},
   "source": [
    "interact autogenera controles para los argumentos de la función, y luego llama a la función con esos argumentos cuando manipulamos los controles de forma interactiva. <br>Para usar interact, necesitas definir una función que quieras explorar"
   ]
  },
  {
   "cell_type": "markdown",
   "metadata": {},
   "source": [
    "### 2.1 Estadísticas por columna"
   ]
  },
  {
   "cell_type": "code",
   "execution_count": 4,
   "metadata": {},
   "outputs": [
    {
     "data": {
      "application/vnd.jupyter.widget-view+json": {
       "model_id": "101b80c12107490e9b1124d6c31afdcd",
       "version_major": 2,
       "version_minor": 0
      },
      "text/plain": [
       "interactive(children=(Dropdown(description='column', options=('Close', 'LogRet', 'Year', 'Month'), value='Clos…"
      ]
     },
     "metadata": {},
     "output_type": "display_data"
    }
   ],
   "source": [
    "#En este caso con Interact como decorador que es la manera más sencilla de crear un widget\n",
    "@interact\n",
    "def describe(column=list(df.columns)):\n",
    "    print(df[column].describe())"
   ]
  },
  {
   "cell_type": "markdown",
   "metadata": {},
   "source": [
    "### 2.2 Filtrar por filas según los valores del widget"
   ]
  },
  {
   "cell_type": "code",
   "execution_count": 5,
   "metadata": {},
   "outputs": [
    {
     "data": {
      "application/vnd.jupyter.widget-view+json": {
       "model_id": "accdd878484f4e90b18ff1037e1ccc13",
       "version_major": 2,
       "version_minor": 0
      },
      "text/plain": [
       "interactive(children=(Dropdown(description='Column', options=('LogRet',), value='LogRet'), FloatSlider(value=0…"
      ]
     },
     "metadata": {},
     "output_type": "display_data"
    }
   ],
   "source": [
    "# Con Interact como decorador para crear un widget\n",
    "@interact\n",
    "def mostrar_valores(\n",
    "    Column =['LogRet'],\n",
    "    x=(-0.25,0.25,0.05)):\n",
    "    display(df.loc[df[Column] >= x])"
   ]
  },
  {
   "cell_type": "markdown",
   "metadata": {},
   "source": [
    "Como se ve en este ejemplo, se puede seleccionar el valor de la rentabilidad y podemos ver cuáles periodos han tenido una rentabilidad superior.Todo esto sin necesidad de reejecutar la celda cada vez que modificamos el filtro. <br>"
   ]
  },
  {
   "cell_type": "markdown",
   "metadata": {},
   "source": [
    "### 2.3 Grafico con interact"
   ]
  },
  {
   "cell_type": "code",
   "execution_count": 6,
   "metadata": {},
   "outputs": [
    {
     "data": {
      "application/vnd.jupyter.widget-view+json": {
       "model_id": "d8a698fd26e04c9cbfe4e3d4acff7179",
       "version_major": 2,
       "version_minor": 0
      },
      "text/plain": [
       "interactive(children=(IntSlider(value=21, description='bins', max=50, min=1, step=5), Checkbox(value=True, des…"
      ]
     },
     "metadata": {},
     "output_type": "display_data"
    }
   ],
   "source": [
    "@interact\n",
    "def grafico(\n",
    "    bins=(1,50,5),\n",
    "    grid= True ,\n",
    "    color=['blue', 'red','gray'],\n",
    "    ):\n",
    "    df.loc[:,'LogRet'].plot(kind='hist', \n",
    "                            bins= bins, \n",
    "                            color=color, \n",
    "                            grid=grid)"
   ]
  },
  {
   "cell_type": "markdown",
   "metadata": {},
   "source": [
    "### 2.4. Otra forma de utilizar interact\n"
   ]
  },
  {
   "cell_type": "code",
   "execution_count": 7,
   "metadata": {},
   "outputs": [],
   "source": [
    "# Funcion\n",
    "def filtro1(Columna, x):\n",
    "    return (df.loc[df[Columna]>x])"
   ]
  },
  {
   "cell_type": "code",
   "execution_count": 8,
   "metadata": {},
   "outputs": [
    {
     "data": {
      "application/vnd.jupyter.widget-view+json": {
       "model_id": "777f5546922a4e66a12cd5db57f4895d",
       "version_major": 2,
       "version_minor": 0
      },
      "text/plain": [
       "interactive(children=(Dropdown(description='Columna', options=('LogRet',), value='LogRet'), FloatSlider(value=…"
      ]
     },
     "metadata": {},
     "output_type": "display_data"
    }
   ],
   "source": [
    "# Acotamos la seleccion de valores\n",
    "interact( filtro1, \n",
    "         x=widgets.FloatSlider(\n",
    "             min= -0.25, \n",
    "             max=0.16, \n",
    "             step= 0.1, \n",
    "             value=0, \n",
    "             description = 'Mayor a'), \n",
    "         Columna =['LogRet']);"
   ]
  },
  {
   "cell_type": "markdown",
   "metadata": {},
   "source": [
    "### 2.5 Desplegable\n",
    "Podemos hacer otro ejemplo donde si en vez de tener un deslizador tenemos un desplegable para filtrar con los años o los meses que necesitamos analizar. Para esto puedo sacar una lista de todos los años y todos los meses presentes en el df"
   ]
  },
  {
   "cell_type": "code",
   "execution_count": 9,
   "metadata": {},
   "outputs": [],
   "source": [
    "#primero saco una lista con los años y meses presentes en el dataframe\n",
    "ALL = 'ALL'\n",
    "def lista_valores(array):\n",
    "    unique = array.unique().tolist()\n",
    "    unique.sort()\n",
    "    unique.insert(0, ALL)\n",
    "    return unique"
   ]
  },
  {
   "cell_type": "code",
   "execution_count": 10,
   "metadata": {},
   "outputs": [],
   "source": [
    "lista_year = lista_valores(df.Year)\n",
    "lista_month = lista_valores(df.Month)"
   ]
  },
  {
   "cell_type": "code",
   "execution_count": 11,
   "metadata": {},
   "outputs": [],
   "source": [
    "#funcion\n",
    "def filtro2(year, month):\n",
    "    return(df.loc[(df['Year'] == year) & (df['Month'] == month)])"
   ]
  },
  {
   "cell_type": "code",
   "execution_count": 12,
   "metadata": {},
   "outputs": [
    {
     "data": {
      "application/vnd.jupyter.widget-view+json": {
       "model_id": "555327fe6e5c4ad9b772f15e5da9cbf2",
       "version_major": 2,
       "version_minor": 0
      },
      "text/plain": [
       "interactive(children=(Dropdown(description='year', options=('ALL', 1970, 1971, 1972, 1973, 1974, 1975, 1976, 1…"
      ]
     },
     "metadata": {},
     "output_type": "display_data"
    }
   ],
   "source": [
    "interact (filtro2, \n",
    "          year = lista_year,\n",
    "          month = lista_month);"
   ]
  },
  {
   "cell_type": "markdown",
   "metadata": {},
   "source": [
    "En este filtro por desplegable hay un problema porque el dataframe no responde bien con la opción o. Por ejemplo, da error si busco todos los meses de un mismo año, o todos los años para un mismo mes. <br>\n",
    "Para solucionarlo tenemos que entrar el los valores del output del widget y hacer una función que interactúe con todas las posibles selecciones."
   ]
  },
  {
   "cell_type": "markdown",
   "metadata": {},
   "source": [
    "## 3. Crear nuestros propios widgets\n",
    "\n",
    "Si queremos que las opciones de un widget dependan del valor de otro, utilizamos la función de observación. Para esto tenemos que crear primero nuestros propios widgets"
   ]
  },
  {
   "cell_type": "code",
   "execution_count": 13,
   "metadata": {},
   "outputs": [],
   "source": [
    "from IPython.display import display"
   ]
  },
  {
   "cell_type": "code",
   "execution_count": 14,
   "metadata": {},
   "outputs": [
    {
     "data": {
      "application/vnd.jupyter.widget-view+json": {
       "model_id": "9f0ae07bd36c4e50b9586f230b0c0288",
       "version_major": 2,
       "version_minor": 0
      },
      "text/plain": [
       "VBox(children=(Dropdown(description='Year', options=('ALL', 1970, 1971, 1972, 1973, 1974, 1975, 1976, 1977, 19…"
      ]
     },
     "metadata": {},
     "output_type": "display_data"
    }
   ],
   "source": [
    "output = widgets.Output()\n",
    "outout_plot = widgets.Output()\n",
    "\n",
    "#creo desplegable\n",
    "\n",
    "dropdown_year = widgets.Dropdown(options = lista_year, description = 'Year')\n",
    "dropdown_month = widgets.Dropdown(options = lista_month, description = 'Month')\n",
    "\n",
    "#funcion filtrar df & plot\n",
    "\n",
    "def filtro (Year, Month):\n",
    "    output.clear_output()\n",
    "    outout_plot.clear_output()\n",
    "    \n",
    "    if (Year == ALL) & (Month == ALL):\n",
    "        filtro = df\n",
    "    elif (Year == ALL):\n",
    "        filtro = df.loc[(df['Month'] == Month)]\n",
    "    elif (Month == ALL):\n",
    "        filtro = df.loc[(df['Year']==Year)]\n",
    "    else:\n",
    "        filtro = df.loc[(df['Year']== Year) & (df['Month']== Month)]\n",
    "        \n",
    "    with output:\n",
    "        display(filtro)\n",
    "        \n",
    "    with outout_plot:\n",
    "        plt.figure (figsize= (10,12))\n",
    "        plt.subplot(211)      \n",
    "        filtro['LogRet'].plot(kind = 'hist', bins = 12, grid=True)\n",
    "        avg = filtro['LogRet'].mean()\n",
    "        plt.axvline(x=avg, color='r', linestyle ='--', label= 'Media')\n",
    "        plt.legend()\n",
    "        plt.title('Histograma de frecuencias', loc='right')\n",
    "        plt.xlabel('Rentabilidad')\n",
    "        \n",
    "        plt.subplot(212)\n",
    "        filtro['LogRet'].plot.bar()\n",
    "        plt.title('Diagrama de barras', loc='right')\n",
    "        plt.ylabel('Rentabilidad')\n",
    "        plt.axhline(y=avg, color='r', linestyle ='--', label= 'Media')\n",
    "        plt.legend()\n",
    "        plt.show()\n",
    "        \n",
    "def dropdown_year_eventhandler (change):\n",
    "    filtro(change.new, dropdown_month.value)\n",
    "    \n",
    "def dropdown_month_eventhander(change):\n",
    "    filtro(dropdown_year.value, change.new)\n",
    "    \n",
    "dropdown_year.observe(dropdown_year_eventhandler, names ='value')\n",
    "dropdown_month.observe (dropdown_month_eventhander, names = 'value')\n",
    "\n",
    "# widgets layout\n",
    "tab  = widgets.Tab([output, outout_plot])\n",
    "tab.set_title(0,'Datos')\n",
    "tab.set_title(1,'Gráficos')\n",
    "dashboard = widgets.VBox([dropdown_year,dropdown_month, tab])\n",
    "display(dashboard);"
   ]
  },
  {
   "cell_type": "code",
   "execution_count": null,
   "metadata": {},
   "outputs": [],
   "source": []
  }
 ],
 "metadata": {
  "kernelspec": {
   "display_name": "Python 3",
   "language": "python",
   "name": "python3"
  },
  "language_info": {
   "codemirror_mode": {
    "name": "ipython",
    "version": 3
   },
   "file_extension": ".py",
   "mimetype": "text/x-python",
   "name": "python",
   "nbconvert_exporter": "python",
   "pygments_lexer": "ipython3",
   "version": "3.7.4"
  }
 },
 "nbformat": 4,
 "nbformat_minor": 4
}
